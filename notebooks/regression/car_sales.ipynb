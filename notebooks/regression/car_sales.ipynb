{
 "cells": [
  {
   "cell_type": "markdown",
   "metadata": {},
   "source": [
    "# Car Sales\n"
   ]
  },
  {
   "cell_type": "code",
   "execution_count": 63,
   "metadata": {},
   "outputs": [],
   "source": [
    "import polars as pl\n",
    "import seaborn as sns\n",
    "from matplotlib import pyplot as plt\n",
    "\n",
    "sns.set_theme()\n",
    "%matplotlib inline"
   ]
  },
  {
   "cell_type": "code",
   "execution_count": 81,
   "metadata": {},
   "outputs": [
    {
     "name": "stdout",
     "output_type": "stream",
     "text": [
      "raw shape:  (11914, 16)\n"
     ]
    },
    {
     "data": {
      "text/html": [
       "<div><style>\n",
       ".dataframe > thead > tr,\n",
       ".dataframe > tbody > tr {\n",
       "  text-align: right;\n",
       "  white-space: pre-wrap;\n",
       "}\n",
       "</style>\n",
       "<small>shape: (5, 18)</small><table border=\"1\" class=\"dataframe\"><thead><tr><th>id</th><th>make</th><th>model</th><th>year</th><th>engine_fuel_type</th><th>engine_hp</th><th>engine_cylinders</th><th>transmission_type</th><th>driven_wheels</th><th>number_of_doors</th><th>market_category</th><th>vehicle_size</th><th>vehicle_style</th><th>highway_mpg</th><th>city_mpg</th><th>popularity</th><th>msrp</th><th>log_msrp</th></tr><tr><td>u32</td><td>cat</td><td>cat</td><td>i64</td><td>cat</td><td>i64</td><td>i64</td><td>cat</td><td>cat</td><td>i64</td><td>str</td><td>cat</td><td>cat</td><td>i64</td><td>i64</td><td>i64</td><td>i64</td><td>f64</td></tr></thead><tbody><tr><td>0</td><td>&quot;bmw&quot;</td><td>&quot;1_series_m&quot;</td><td>2011</td><td>&quot;premium_unlead…</td><td>335</td><td>6</td><td>&quot;manual&quot;</td><td>&quot;rear_wheel_dri…</td><td>2</td><td>&quot;factory_tuner,…</td><td>&quot;compact&quot;</td><td>&quot;coupe&quot;</td><td>26</td><td>19</td><td>3916</td><td>46135</td><td>4.664031</td></tr><tr><td>1</td><td>&quot;bmw&quot;</td><td>&quot;1_series&quot;</td><td>2011</td><td>&quot;premium_unlead…</td><td>300</td><td>6</td><td>&quot;manual&quot;</td><td>&quot;rear_wheel_dri…</td><td>2</td><td>&quot;luxury,perform…</td><td>&quot;compact&quot;</td><td>&quot;convertible&quot;</td><td>28</td><td>19</td><td>3916</td><td>40650</td><td>4.609061</td></tr><tr><td>2</td><td>&quot;bmw&quot;</td><td>&quot;1_series&quot;</td><td>2011</td><td>&quot;premium_unlead…</td><td>300</td><td>6</td><td>&quot;manual&quot;</td><td>&quot;rear_wheel_dri…</td><td>2</td><td>&quot;luxury,high-pe…</td><td>&quot;compact&quot;</td><td>&quot;coupe&quot;</td><td>28</td><td>20</td><td>3916</td><td>36350</td><td>4.560504</td></tr><tr><td>3</td><td>&quot;bmw&quot;</td><td>&quot;1_series&quot;</td><td>2011</td><td>&quot;premium_unlead…</td><td>230</td><td>6</td><td>&quot;manual&quot;</td><td>&quot;rear_wheel_dri…</td><td>2</td><td>&quot;luxury,perform…</td><td>&quot;compact&quot;</td><td>&quot;coupe&quot;</td><td>28</td><td>18</td><td>3916</td><td>29450</td><td>4.469085</td></tr><tr><td>4</td><td>&quot;bmw&quot;</td><td>&quot;1_series&quot;</td><td>2011</td><td>&quot;premium_unlead…</td><td>230</td><td>6</td><td>&quot;manual&quot;</td><td>&quot;rear_wheel_dri…</td><td>2</td><td>&quot;luxury&quot;</td><td>&quot;compact&quot;</td><td>&quot;convertible&quot;</td><td>28</td><td>18</td><td>3916</td><td>34500</td><td>4.537819</td></tr></tbody></table></div>"
      ],
      "text/plain": [
       "shape: (5, 18)\n",
       "┌─────┬──────┬────────────┬──────┬───┬──────────┬────────────┬───────┬──────────┐\n",
       "│ id  ┆ make ┆ model      ┆ year ┆ … ┆ city_mpg ┆ popularity ┆ msrp  ┆ log_msrp │\n",
       "│ --- ┆ ---  ┆ ---        ┆ ---  ┆   ┆ ---      ┆ ---        ┆ ---   ┆ ---      │\n",
       "│ u32 ┆ cat  ┆ cat        ┆ i64  ┆   ┆ i64      ┆ i64        ┆ i64   ┆ f64      │\n",
       "╞═════╪══════╪════════════╪══════╪═══╪══════════╪════════════╪═══════╪══════════╡\n",
       "│ 0   ┆ bmw  ┆ 1_series_m ┆ 2011 ┆ … ┆ 19       ┆ 3916       ┆ 46135 ┆ 4.664031 │\n",
       "│ 1   ┆ bmw  ┆ 1_series   ┆ 2011 ┆ … ┆ 19       ┆ 3916       ┆ 40650 ┆ 4.609061 │\n",
       "│ 2   ┆ bmw  ┆ 1_series   ┆ 2011 ┆ … ┆ 20       ┆ 3916       ┆ 36350 ┆ 4.560504 │\n",
       "│ 3   ┆ bmw  ┆ 1_series   ┆ 2011 ┆ … ┆ 18       ┆ 3916       ┆ 29450 ┆ 4.469085 │\n",
       "│ 4   ┆ bmw  ┆ 1_series   ┆ 2011 ┆ … ┆ 18       ┆ 3916       ┆ 34500 ┆ 4.537819 │\n",
       "└─────┴──────┴────────────┴──────┴───┴──────────┴────────────┴───────┴──────────┘"
      ]
     },
     "execution_count": 81,
     "metadata": {},
     "output_type": "execute_result"
    }
   ],
   "source": [
    "df = pl.read_csv(\"data/raw/car_sales/data.csv\")\n",
    "print(\"raw shape: \", df.shape)\n",
    "rename_map = {col: col.lower().replace(\" \", \"_\") for col in df.columns}\n",
    "\n",
    "df = df.rename(rename_map).with_row_count(\"id\")\n",
    "df = (\n",
    "    df.with_columns(\n",
    "        [\n",
    "            pl.col(col).str.replace_all(\" \", \"_\").str.to_lowercase()\n",
    "            for col in df.columns\n",
    "            if df[col].dtype == pl.Utf8\n",
    "        ]\n",
    "    )\n",
    "    .with_columns(\n",
    "        pl.col(\n",
    "            \"make\",\n",
    "            \"model\",\n",
    "            \"engine_fuel_type\",\n",
    "            \"transmission_type\",\n",
    "            \"driven_wheels\",\n",
    "            \"vehicle_size\",\n",
    "            \"vehicle_style\",\n",
    "        ).cast(pl.Categorical),\n",
    "    )\n",
    "    .with_columns(\n",
    "        pl.col(\"msrp\").log10().alias(\"log_msrp\"),\n",
    "    )\n",
    ")\n",
    "df.head()"
   ]
  },
  {
   "cell_type": "code",
   "execution_count": 109,
   "metadata": {},
   "outputs": [
    {
     "data": {
      "text/html": [
       "<div><style>\n",
       ".dataframe > thead > tr,\n",
       ".dataframe > tbody > tr {\n",
       "  text-align: right;\n",
       "  white-space: pre-wrap;\n",
       "}\n",
       "</style>\n",
       "<small>shape: (1, 19)</small><table border=\"1\" class=\"dataframe\"><thead><tr><th>describe</th><th>id</th><th>make</th><th>model</th><th>year</th><th>engine_fuel_type</th><th>engine_hp</th><th>engine_cylinders</th><th>transmission_type</th><th>driven_wheels</th><th>number_of_doors</th><th>market_category</th><th>vehicle_size</th><th>vehicle_style</th><th>highway_mpg</th><th>city_mpg</th><th>popularity</th><th>msrp</th><th>log_msrp</th></tr><tr><td>str</td><td>f64</td><td>str</td><td>str</td><td>f64</td><td>str</td><td>f64</td><td>f64</td><td>str</td><td>str</td><td>f64</td><td>str</td><td>str</td><td>str</td><td>f64</td><td>f64</td><td>f64</td><td>f64</td><td>f64</td></tr></thead><tbody><tr><td>&quot;null_count&quot;</td><td>0.0</td><td>&quot;0&quot;</td><td>&quot;0&quot;</td><td>0.0</td><td>&quot;0&quot;</td><td>0.0</td><td>0.0</td><td>&quot;0&quot;</td><td>&quot;0&quot;</td><td>0.0</td><td>&quot;0&quot;</td><td>&quot;0&quot;</td><td>&quot;0&quot;</td><td>0.0</td><td>0.0</td><td>0.0</td><td>0.0</td><td>0.0</td></tr></tbody></table></div>"
      ],
      "text/plain": [
       "shape: (1, 19)\n",
       "┌────────────┬─────┬──────┬───────┬───┬──────────┬────────────┬──────┬──────────┐\n",
       "│ describe   ┆ id  ┆ make ┆ model ┆ … ┆ city_mpg ┆ popularity ┆ msrp ┆ log_msrp │\n",
       "│ ---        ┆ --- ┆ ---  ┆ ---   ┆   ┆ ---      ┆ ---        ┆ ---  ┆ ---      │\n",
       "│ str        ┆ f64 ┆ str  ┆ str   ┆   ┆ f64      ┆ f64        ┆ f64  ┆ f64      │\n",
       "╞════════════╪═════╪══════╪═══════╪═══╪══════════╪════════════╪══════╪══════════╡\n",
       "│ null_count ┆ 0.0 ┆ 0    ┆ 0     ┆ … ┆ 0.0      ┆ 0.0        ┆ 0.0  ┆ 0.0      │\n",
       "└────────────┴─────┴──────┴───────┴───┴──────────┴────────────┴──────┴──────────┘"
      ]
     },
     "execution_count": 109,
     "metadata": {},
     "output_type": "execute_result"
    }
   ],
   "source": [
    "df.describe().filter(pl.col(\"describe\") == \"null_count\")"
   ]
  },
  {
   "cell_type": "code",
   "execution_count": 108,
   "metadata": {},
   "outputs": [],
   "source": [
    "df = df.with_columns(\n",
    "    pl.col(\"engine_cylinders\").fill_null(0)\n",
    ").drop_nulls(  # rotary and electric engines\n",
    "    [\"engine_fuel_type\", \"engine_hp\", \"number_of_doors\"]\n",
    ")  # missing values"
   ]
  },
  {
   "cell_type": "code",
   "execution_count": 74,
   "metadata": {},
   "outputs": [
    {
     "data": {
      "text/html": [
       "<div><style>\n",
       ".dataframe > thead > tr,\n",
       ".dataframe > tbody > tr {\n",
       "  text-align: right;\n",
       "  white-space: pre-wrap;\n",
       "}\n",
       "</style>\n",
       "<small>shape: (5, 29)</small><table border=\"1\" class=\"dataframe\"><thead><tr><th>id</th><th>make</th><th>model</th><th>year</th><th>engine_fuel_type</th><th>engine_hp</th><th>engine_cylinders</th><th>transmission_type</th><th>driven_wheels</th><th>number_of_doors</th><th>market_category</th><th>vehicle_size</th><th>vehicle_style</th><th>highway_mpg</th><th>city_mpg</th><th>popularity</th><th>msrp</th><th>log_msrp</th><th>market_factory_tuner</th><th>market_luxury</th><th>market_high-performance</th><th>market_performance</th><th>market_flex_fuel</th><th>market_n/a</th><th>market_hatchback</th><th>market_hybrid</th><th>market_diesel</th><th>market_exotic</th><th>market_crossover</th></tr><tr><td>u32</td><td>cat</td><td>cat</td><td>i64</td><td>cat</td><td>i64</td><td>i64</td><td>cat</td><td>cat</td><td>i64</td><td>str</td><td>cat</td><td>cat</td><td>i64</td><td>i64</td><td>i64</td><td>i64</td><td>f64</td><td>u32</td><td>u32</td><td>u32</td><td>u32</td><td>u32</td><td>u32</td><td>u32</td><td>u32</td><td>u32</td><td>u32</td><td>u32</td></tr></thead><tbody><tr><td>0</td><td>&quot;bmw&quot;</td><td>&quot;1_series_m&quot;</td><td>2011</td><td>&quot;premium_unlead…</td><td>335</td><td>6</td><td>&quot;manual&quot;</td><td>&quot;rear_wheel_dri…</td><td>2</td><td>&quot;factory_tuner,…</td><td>&quot;compact&quot;</td><td>&quot;coupe&quot;</td><td>26</td><td>19</td><td>3916</td><td>46135</td><td>4.664031</td><td>1</td><td>1</td><td>1</td><td>0</td><td>0</td><td>0</td><td>0</td><td>0</td><td>0</td><td>0</td><td>0</td></tr><tr><td>1</td><td>&quot;bmw&quot;</td><td>&quot;1_series&quot;</td><td>2011</td><td>&quot;premium_unlead…</td><td>300</td><td>6</td><td>&quot;manual&quot;</td><td>&quot;rear_wheel_dri…</td><td>2</td><td>&quot;luxury,perform…</td><td>&quot;compact&quot;</td><td>&quot;convertible&quot;</td><td>28</td><td>19</td><td>3916</td><td>40650</td><td>4.609061</td><td>0</td><td>1</td><td>0</td><td>1</td><td>0</td><td>0</td><td>0</td><td>0</td><td>0</td><td>0</td><td>0</td></tr><tr><td>2</td><td>&quot;bmw&quot;</td><td>&quot;1_series&quot;</td><td>2011</td><td>&quot;premium_unlead…</td><td>300</td><td>6</td><td>&quot;manual&quot;</td><td>&quot;rear_wheel_dri…</td><td>2</td><td>&quot;luxury,high-pe…</td><td>&quot;compact&quot;</td><td>&quot;coupe&quot;</td><td>28</td><td>20</td><td>3916</td><td>36350</td><td>4.560504</td><td>0</td><td>1</td><td>1</td><td>0</td><td>0</td><td>0</td><td>0</td><td>0</td><td>0</td><td>0</td><td>0</td></tr><tr><td>3</td><td>&quot;bmw&quot;</td><td>&quot;1_series&quot;</td><td>2011</td><td>&quot;premium_unlead…</td><td>230</td><td>6</td><td>&quot;manual&quot;</td><td>&quot;rear_wheel_dri…</td><td>2</td><td>&quot;luxury,perform…</td><td>&quot;compact&quot;</td><td>&quot;coupe&quot;</td><td>28</td><td>18</td><td>3916</td><td>29450</td><td>4.469085</td><td>0</td><td>1</td><td>0</td><td>1</td><td>0</td><td>0</td><td>0</td><td>0</td><td>0</td><td>0</td><td>0</td></tr><tr><td>4</td><td>&quot;bmw&quot;</td><td>&quot;1_series&quot;</td><td>2011</td><td>&quot;premium_unlead…</td><td>230</td><td>6</td><td>&quot;manual&quot;</td><td>&quot;rear_wheel_dri…</td><td>2</td><td>&quot;luxury&quot;</td><td>&quot;compact&quot;</td><td>&quot;convertible&quot;</td><td>28</td><td>18</td><td>3916</td><td>34500</td><td>4.537819</td><td>0</td><td>1</td><td>0</td><td>0</td><td>0</td><td>0</td><td>0</td><td>0</td><td>0</td><td>0</td><td>0</td></tr></tbody></table></div>"
      ],
      "text/plain": [
       "shape: (5, 29)\n",
       "┌─────┬──────┬────────────┬──────┬───┬───────────────┬───────────────┬──────────────┬──────────────┐\n",
       "│ id  ┆ make ┆ model      ┆ year ┆ … ┆ market_hybrid ┆ market_diesel ┆ market_exoti ┆ market_cross │\n",
       "│ --- ┆ ---  ┆ ---        ┆ ---  ┆   ┆ ---           ┆ ---           ┆ c            ┆ over         │\n",
       "│ u32 ┆ cat  ┆ cat        ┆ i64  ┆   ┆ u32           ┆ u32           ┆ ---          ┆ ---          │\n",
       "│     ┆      ┆            ┆      ┆   ┆               ┆               ┆ u32          ┆ u32          │\n",
       "╞═════╪══════╪════════════╪══════╪═══╪═══════════════╪═══════════════╪══════════════╪══════════════╡\n",
       "│ 0   ┆ bmw  ┆ 1_series_m ┆ 2011 ┆ … ┆ 0             ┆ 0             ┆ 0            ┆ 0            │\n",
       "│ 1   ┆ bmw  ┆ 1_series   ┆ 2011 ┆ … ┆ 0             ┆ 0             ┆ 0            ┆ 0            │\n",
       "│ 2   ┆ bmw  ┆ 1_series   ┆ 2011 ┆ … ┆ 0             ┆ 0             ┆ 0            ┆ 0            │\n",
       "│ 3   ┆ bmw  ┆ 1_series   ┆ 2011 ┆ … ┆ 0             ┆ 0             ┆ 0            ┆ 0            │\n",
       "│ 4   ┆ bmw  ┆ 1_series   ┆ 2011 ┆ … ┆ 0             ┆ 0             ┆ 0            ┆ 0            │\n",
       "└─────┴──────┴────────────┴──────┴───┴───────────────┴───────────────┴──────────────┴──────────────┘"
      ]
     },
     "execution_count": 74,
     "metadata": {},
     "output_type": "execute_result"
    }
   ],
   "source": [
    "df_market = (\n",
    "    (\n",
    "        df.select(\"id\", \"market_category\")\n",
    "        .with_columns([pl.col(\"market_category\").str.split(\",\")])\n",
    "        .explode(\"market_category\")\n",
    "    )\n",
    "    .pivot(\n",
    "        index=\"id\",\n",
    "        values=\"id\",\n",
    "        columns=\"market_category\",\n",
    "        aggregate_function=\"count\",\n",
    "    )\n",
    "    .fill_null(0)\n",
    ")\n",
    "rename_map = {\n",
    "    col: \"market_\" + col.lower().replace(\" \", \"_\") if col != \"id\" else col\n",
    "    for col in df_market.columns\n",
    "}\n",
    "df_market = df_market.rename(rename_map)\n",
    "df = df.join(df_market, on=\"id\")\n",
    "df.head()"
   ]
  },
  {
   "cell_type": "code",
   "execution_count": 78,
   "metadata": {},
   "outputs": [
    {
     "data": {
      "text/plain": [
       "[]"
      ]
     },
     "execution_count": 78,
     "metadata": {},
     "output_type": "execute_result"
    },
    {
     "data": {
      "image/png": "[encoded data removed]",
      "text/plain": [
       "<Figure size 640x480 with 1 Axes>"
      ]
     },
     "metadata": {},
     "output_type": "display_data"
    }
   ],
   "source": [
    "sns.histplot(df, x=\"log_msrp\")\n",
    "plt.plot()"
   ]
  },
  {
   "cell_type": "code",
   "execution_count": null,
   "metadata": {},
   "outputs": [],
   "source": []
  }
 ],
 "metadata": {
  "kernelspec": {
   "display_name": ".venv",
   "language": "python",
   "name": "python3"
  },
  "language_info": {
   "codemirror_mode": {
    "name": "ipython",
    "version": 3
   },
   "file_extension": ".py",
   "mimetype": "text/x-python",
   "name": "python",
   "nbconvert_exporter": "python",
   "pygments_lexer": "ipython3",
   "version": "3.10.11"
  }
 },
 "nbformat": 4,
 "nbformat_minor": 2
}
