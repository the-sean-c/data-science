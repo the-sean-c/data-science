{
 "cells": [
  {
   "cell_type": "markdown",
   "metadata": {},
   "source": [
    "# Car Sales\n"
   ]
  },
  {
   "cell_type": "code",
   "execution_count": 1,
   "metadata": {},
   "outputs": [],
   "source": [
    "import polars as pl"
   ]
  },
  {
   "cell_type": "code",
   "execution_count": 20,
   "metadata": {},
   "outputs": [
    {
     "name": "stdout",
     "output_type": "stream",
     "text": [
      "raw shape:  (11914, 16)\n"
     ]
    },
    {
     "data": {
      "text/html": [
       "<div><style>\n",
       ".dataframe > thead > tr,\n",
       ".dataframe > tbody > tr {\n",
       "  text-align: right;\n",
       "  white-space: pre-wrap;\n",
       "}\n",
       "</style>\n",
       "<small>shape: (5, 17)</small><table border=\"1\" class=\"dataframe\"><thead><tr><th>id</th><th>make</th><th>model</th><th>year</th><th>engine_fuel_type</th><th>engine_hp</th><th>engine_cylinders</th><th>transmission_type</th><th>driven_wheels</th><th>number_of_doors</th><th>market_category</th><th>vehicle_size</th><th>vehicle_style</th><th>highway_mpg</th><th>city_mpg</th><th>popularity</th><th>msrp</th></tr><tr><td>u32</td><td>cat</td><td>cat</td><td>i64</td><td>cat</td><td>i64</td><td>i64</td><td>cat</td><td>cat</td><td>i64</td><td>str</td><td>cat</td><td>cat</td><td>i64</td><td>i64</td><td>i64</td><td>i64</td></tr></thead><tbody><tr><td>0</td><td>&quot;bmw&quot;</td><td>&quot;1_series_m&quot;</td><td>2011</td><td>&quot;premium_unlead…</td><td>335</td><td>6</td><td>&quot;manual&quot;</td><td>&quot;rear_wheel_dri…</td><td>2</td><td>&quot;factory_tuner,…</td><td>&quot;compact&quot;</td><td>&quot;coupe&quot;</td><td>26</td><td>19</td><td>3916</td><td>46135</td></tr><tr><td>1</td><td>&quot;bmw&quot;</td><td>&quot;1_series&quot;</td><td>2011</td><td>&quot;premium_unlead…</td><td>300</td><td>6</td><td>&quot;manual&quot;</td><td>&quot;rear_wheel_dri…</td><td>2</td><td>&quot;luxury,perform…</td><td>&quot;compact&quot;</td><td>&quot;convertible&quot;</td><td>28</td><td>19</td><td>3916</td><td>40650</td></tr><tr><td>2</td><td>&quot;bmw&quot;</td><td>&quot;1_series&quot;</td><td>2011</td><td>&quot;premium_unlead…</td><td>300</td><td>6</td><td>&quot;manual&quot;</td><td>&quot;rear_wheel_dri…</td><td>2</td><td>&quot;luxury,high-pe…</td><td>&quot;compact&quot;</td><td>&quot;coupe&quot;</td><td>28</td><td>20</td><td>3916</td><td>36350</td></tr><tr><td>3</td><td>&quot;bmw&quot;</td><td>&quot;1_series&quot;</td><td>2011</td><td>&quot;premium_unlead…</td><td>230</td><td>6</td><td>&quot;manual&quot;</td><td>&quot;rear_wheel_dri…</td><td>2</td><td>&quot;luxury,perform…</td><td>&quot;compact&quot;</td><td>&quot;coupe&quot;</td><td>28</td><td>18</td><td>3916</td><td>29450</td></tr><tr><td>4</td><td>&quot;bmw&quot;</td><td>&quot;1_series&quot;</td><td>2011</td><td>&quot;premium_unlead…</td><td>230</td><td>6</td><td>&quot;manual&quot;</td><td>&quot;rear_wheel_dri…</td><td>2</td><td>&quot;luxury&quot;</td><td>&quot;compact&quot;</td><td>&quot;convertible&quot;</td><td>28</td><td>18</td><td>3916</td><td>34500</td></tr></tbody></table></div>"
      ],
      "text/plain": [
       "shape: (5, 17)\n",
       "┌─────┬──────┬────────────┬──────┬───┬─────────────┬──────────┬────────────┬───────┐\n",
       "│ id  ┆ make ┆ model      ┆ year ┆ … ┆ highway_mpg ┆ city_mpg ┆ popularity ┆ msrp  │\n",
       "│ --- ┆ ---  ┆ ---        ┆ ---  ┆   ┆ ---         ┆ ---      ┆ ---        ┆ ---   │\n",
       "│ u32 ┆ cat  ┆ cat        ┆ i64  ┆   ┆ i64         ┆ i64      ┆ i64        ┆ i64   │\n",
       "╞═════╪══════╪════════════╪══════╪═══╪═════════════╪══════════╪════════════╪═══════╡\n",
       "│ 0   ┆ bmw  ┆ 1_series_m ┆ 2011 ┆ … ┆ 26          ┆ 19       ┆ 3916       ┆ 46135 │\n",
       "│ 1   ┆ bmw  ┆ 1_series   ┆ 2011 ┆ … ┆ 28          ┆ 19       ┆ 3916       ┆ 40650 │\n",
       "│ 2   ┆ bmw  ┆ 1_series   ┆ 2011 ┆ … ┆ 28          ┆ 20       ┆ 3916       ┆ 36350 │\n",
       "│ 3   ┆ bmw  ┆ 1_series   ┆ 2011 ┆ … ┆ 28          ┆ 18       ┆ 3916       ┆ 29450 │\n",
       "│ 4   ┆ bmw  ┆ 1_series   ┆ 2011 ┆ … ┆ 28          ┆ 18       ┆ 3916       ┆ 34500 │\n",
       "└─────┴──────┴────────────┴──────┴───┴─────────────┴──────────┴────────────┴───────┘"
      ]
     },
     "execution_count": 20,
     "metadata": {},
     "output_type": "execute_result"
    }
   ],
   "source": [
    "df = pl.read_csv(\"data/raw/car_sales/data.csv\")\n",
    "print(\"raw shape: \", df.shape)\n",
    "rename_map = {col: col.lower().replace(\" \", \"_\") for col in df.columns}\n",
    "\n",
    "df = df.rename(rename_map).with_row_count(\"id\")\n",
    "df = df.with_columns(\n",
    "    [\n",
    "        pl.col(col).str.replace_all(\" \", \"_\").str.to_lowercase()\n",
    "        for col in df.columns\n",
    "        if df[col].dtype == pl.Utf8\n",
    "    ]\n",
    ").with_columns(\n",
    "    pl.col(\n",
    "        \"make\",\n",
    "        \"model\",\n",
    "        \"engine_fuel_type\",\n",
    "        \"transmission_type\",\n",
    "        \"driven_wheels\",\n",
    "        \"vehicle_size\",\n",
    "        \"vehicle_style\",\n",
    "    ).cast(pl.Categorical),\n",
    ")\n",
    "df.head()"
   ]
  },
  {
   "cell_type": "code",
   "execution_count": 34,
   "metadata": {},
   "outputs": [
    {
     "data": {
      "text/html": [
       "<div><style>\n",
       ".dataframe > thead > tr,\n",
       ".dataframe > tbody > tr {\n",
       "  text-align: right;\n",
       "  white-space: pre-wrap;\n",
       "}\n",
       "</style>\n",
       "<small>shape: (5, 17)</small><table border=\"1\" class=\"dataframe\"><thead><tr><th>id</th><th>make</th><th>model</th><th>year</th><th>engine_fuel_type</th><th>engine_hp</th><th>engine_cylinders</th><th>transmission_type</th><th>driven_wheels</th><th>number_of_doors</th><th>market_category</th><th>vehicle_size</th><th>vehicle_style</th><th>highway_mpg</th><th>city_mpg</th><th>popularity</th><th>msrp</th></tr><tr><td>u32</td><td>cat</td><td>cat</td><td>i64</td><td>cat</td><td>i64</td><td>i64</td><td>cat</td><td>cat</td><td>i64</td><td>str</td><td>cat</td><td>cat</td><td>i64</td><td>i64</td><td>i64</td><td>i64</td></tr></thead><tbody><tr><td>0</td><td>&quot;bmw&quot;</td><td>&quot;1_series_m&quot;</td><td>2011</td><td>&quot;premium_unlead…</td><td>335</td><td>6</td><td>&quot;manual&quot;</td><td>&quot;rear_wheel_dri…</td><td>2</td><td>&quot;factory_tuner,…</td><td>&quot;compact&quot;</td><td>&quot;coupe&quot;</td><td>26</td><td>19</td><td>3916</td><td>46135</td></tr><tr><td>1</td><td>&quot;bmw&quot;</td><td>&quot;1_series&quot;</td><td>2011</td><td>&quot;premium_unlead…</td><td>300</td><td>6</td><td>&quot;manual&quot;</td><td>&quot;rear_wheel_dri…</td><td>2</td><td>&quot;luxury,perform…</td><td>&quot;compact&quot;</td><td>&quot;convertible&quot;</td><td>28</td><td>19</td><td>3916</td><td>40650</td></tr><tr><td>2</td><td>&quot;bmw&quot;</td><td>&quot;1_series&quot;</td><td>2011</td><td>&quot;premium_unlead…</td><td>300</td><td>6</td><td>&quot;manual&quot;</td><td>&quot;rear_wheel_dri…</td><td>2</td><td>&quot;luxury,high-pe…</td><td>&quot;compact&quot;</td><td>&quot;coupe&quot;</td><td>28</td><td>20</td><td>3916</td><td>36350</td></tr><tr><td>3</td><td>&quot;bmw&quot;</td><td>&quot;1_series&quot;</td><td>2011</td><td>&quot;premium_unlead…</td><td>230</td><td>6</td><td>&quot;manual&quot;</td><td>&quot;rear_wheel_dri…</td><td>2</td><td>&quot;luxury,perform…</td><td>&quot;compact&quot;</td><td>&quot;coupe&quot;</td><td>28</td><td>18</td><td>3916</td><td>29450</td></tr><tr><td>4</td><td>&quot;bmw&quot;</td><td>&quot;1_series&quot;</td><td>2011</td><td>&quot;premium_unlead…</td><td>230</td><td>6</td><td>&quot;manual&quot;</td><td>&quot;rear_wheel_dri…</td><td>2</td><td>&quot;luxury&quot;</td><td>&quot;compact&quot;</td><td>&quot;convertible&quot;</td><td>28</td><td>18</td><td>3916</td><td>34500</td></tr></tbody></table></div>"
      ],
      "text/plain": [
       "shape: (5, 17)\n",
       "┌─────┬──────┬────────────┬──────┬───┬─────────────┬──────────┬────────────┬───────┐\n",
       "│ id  ┆ make ┆ model      ┆ year ┆ … ┆ highway_mpg ┆ city_mpg ┆ popularity ┆ msrp  │\n",
       "│ --- ┆ ---  ┆ ---        ┆ ---  ┆   ┆ ---         ┆ ---      ┆ ---        ┆ ---   │\n",
       "│ u32 ┆ cat  ┆ cat        ┆ i64  ┆   ┆ i64         ┆ i64      ┆ i64        ┆ i64   │\n",
       "╞═════╪══════╪════════════╪══════╪═══╪═════════════╪══════════╪════════════╪═══════╡\n",
       "│ 0   ┆ bmw  ┆ 1_series_m ┆ 2011 ┆ … ┆ 26          ┆ 19       ┆ 3916       ┆ 46135 │\n",
       "│ 1   ┆ bmw  ┆ 1_series   ┆ 2011 ┆ … ┆ 28          ┆ 19       ┆ 3916       ┆ 40650 │\n",
       "│ 2   ┆ bmw  ┆ 1_series   ┆ 2011 ┆ … ┆ 28          ┆ 20       ┆ 3916       ┆ 36350 │\n",
       "│ 3   ┆ bmw  ┆ 1_series   ┆ 2011 ┆ … ┆ 28          ┆ 18       ┆ 3916       ┆ 29450 │\n",
       "│ 4   ┆ bmw  ┆ 1_series   ┆ 2011 ┆ … ┆ 28          ┆ 18       ┆ 3916       ┆ 34500 │\n",
       "└─────┴──────┴────────────┴──────┴───┴─────────────┴──────────┴────────────┴───────┘"
      ]
     },
     "execution_count": 34,
     "metadata": {},
     "output_type": "execute_result"
    }
   ],
   "source": [
    "df_market = (\n",
    "    (\n",
    "        df.select(\"id\", \"market_category\")\n",
    "        .with_columns([pl.col(\"market_category\").str.split(\",\")])\n",
    "        .explode(\"market_category\")\n",
    "    )\n",
    "    .pivot(\n",
    "        index=\"id\",\n",
    "        values=\"id\",\n",
    "        columns=\"market_category\",\n",
    "        aggregate_function=\"count\",\n",
    "    )\n",
    "    .fill_null(0)\n",
    ")\n",
    "rename_map = {\n",
    "    col: \"market_\" + col.lower().replace(\" \", \"_\") if col != \"id\" else col\n",
    "    for col in df_market.columns\n",
    "}\n",
    "df_market = df_market.rename(rename_map)\n",
    "df_market.head()\n",
    "df.join(df_market, on=\"id\")\n",
    "df.head()"
   ]
  },
  {
   "cell_type": "code",
   "execution_count": null,
   "metadata": {},
   "outputs": [],
   "source": []
  },
  {
   "cell_type": "code",
   "execution_count": null,
   "metadata": {},
   "outputs": [],
   "source": []
  },
  {
   "cell_type": "code",
   "execution_count": null,
   "metadata": {},
   "outputs": [],
   "source": []
  }
 ],
 "metadata": {
  "kernelspec": {
   "display_name": ".venv",
   "language": "python",
   "name": "python3"
  },
  "language_info": {
   "codemirror_mode": {
    "name": "ipython",
    "version": 3
   },
   "file_extension": ".py",
   "mimetype": "text/x-python",
   "name": "python",
   "nbconvert_exporter": "python",
   "pygments_lexer": "ipython3",
   "version": "3.10.11"
  }
 },
 "nbformat": 4,
 "nbformat_minor": 2
}
